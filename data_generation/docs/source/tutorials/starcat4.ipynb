{
 "cells": [
  {
   "cell_type": "markdown",
   "id": "7a1b6539",
   "metadata": {},
   "source": [
    "# LIFE Star Catalog\n",
    "## Introduction\n",
    "One of the main use cases of the LIFE Target Database is to enable the creation of the LIFE Star Catalog (LIFE-StarCat). It is the stellar sample of potential targets that is used by LIFEsim to provide mission yield estimates. In this tutorial we guide you through how the 4th version of this catalog was created."
   ]
  },
  {
   "cell_type": "markdown",
   "id": "9b986037",
   "metadata": {},
   "source": [
    "## Getting started\n",
    "We start by importing the required Python modules for this tutorial."
   ]
  },
  {
   "cell_type": "code",
   "execution_count": 81,
   "id": "ee42fe9e",
   "metadata": {},
   "outputs": [],
   "source": [
    "import numpy as np # Used for arrays\n",
    "import pyvo as vo # Used for catalog query\n",
    "import astropy as ap # Used for votables\n",
    "import math\n",
    "import sys"
   ]
  },
  {
   "cell_type": "markdown",
   "id": "e9226f74",
   "metadata": {},
   "source": [
    "Next we import the life_td_data_generation specific functions from the modules."
   ]
  },
  {
   "cell_type": "code",
   "execution_count": 82,
   "id": "ceb0544e",
   "metadata": {},
   "outputs": [],
   "source": [
    "# Self created modules\n",
    "from utils import save\n",
    "from provider import query"
   ]
  },
  {
   "cell_type": "markdown",
   "id": "2ec66d8a",
   "metadata": {},
   "source": [
    "## Querying the Database\n",
    "We will now query the LIFE Target Database (life_td) for the data needed to create the catalog. We specify the distance cut as 30 parsec according to the latest LIFE catalog version (4)."
   ]
  },
  {
   "cell_type": "code",
   "execution_count": 83,
   "id": "5f5e68f2",
   "metadata": {},
   "outputs": [],
   "source": [
    "distance_cut=30."
   ]
  },
  {
   "cell_type": "markdown",
   "id": "7f6c04d7",
   "metadata": {},
   "source": [
    "Now we define the concrete query. It is one of the provided examples at http://dc.zah.uni-heidelberg.de/life/q/ex/examples. And also give the link for the service."
   ]
  },
  {
   "cell_type": "code",
   "execution_count": 84,
   "id": "737d236a",
   "metadata": {},
   "outputs": [],
   "source": [
    "adql_query=\"\"\"\n",
    "    SELECT o.main_id, sb.coo_ra, sb.coo_dec, sb.plx_value, sb.dist_st_value,\n",
    "        sb.sptype_string, sb.coo_gal_l, sb.coo_gal_b, sb.teff_st_value, \n",
    "        sb.mass_st_value, sb.radius_st_value, sb.binary_flag, sb.mag_i_value, \n",
    "        sb.mag_j_value,  sb.class_lum, sb.class_temp, \n",
    "        o_parent.main_id AS parent_main_id, sb_parent.sep_ang_value\n",
    "    FROM life_td.star_basic AS sb\n",
    "    JOIN life_td.object AS o ON sb.object_idref=o.object_id\n",
    "    LEFT JOIN life_td.h_link AS h ON o.object_id=h.child_object_idref\n",
    "    LEFT JOIN life_td.object AS o_parent ON \n",
    "        h.parent_object_idref=o_parent.object_id\n",
    "    LEFT JOIN life_td.star_basic AS sb_parent ON \n",
    "        o_parent.object_id=sb_parent.object_idref\n",
    "    WHERE o.type = 'st' AND sb.dist_st_value < \"\"\"+str(distance_cut) \n",
    "service='http://dc.zah.uni-heidelberg.de/tap'"
   ]
  },
  {
   "cell_type": "markdown",
   "id": "b9af69c8",
   "metadata": {},
   "source": [
    "The above query returns parameters for all objects of type star with distances smaller than 30 pc.\n",
    "\n",
    "Next we perform the actual query."
   ]
  },
  {
   "cell_type": "code",
   "execution_count": 85,
   "id": "c8e46c03",
   "metadata": {},
   "outputs": [],
   "source": [
    "catalog=query(service,adql_query)"
   ]
  },
  {
   "cell_type": "markdown",
   "id": "ae641ec6",
   "metadata": {},
   "source": [
    "Let's have a short look at what we got:"
   ]
  },
  {
   "cell_type": "code",
   "execution_count": 86,
   "id": "d0333e72",
   "metadata": {},
   "outputs": [
    {
     "name": "stdout",
     "output_type": "stream",
     "text": [
      "    main_id           coo_ra       ... parent_main_id sep_ang_value\n",
      "                       deg         ...                    arcsec   \n",
      "--------------- ------------------ ... -------------- -------------\n",
      "    *  61 Cyg B  316.7302660185276 ...      *  61 Cyg          17.5\n",
      "    *  61 Cyg A  316.7247482895925 ...      *  61 Cyg          17.5\n",
      "    L 1578-44 B  324.1601460120721 ...      L 1578-44           1.0\n",
      "    L 1578-44 A 324.16073469423293 ...      L 1578-44           1.0\n",
      "UPM J2325+4717B  351.4090302929913 ... UPM J2325+4717            --\n",
      "UPM J2325+4717A  351.4091812460812 ... UPM J2325+4717            --\n",
      "     Ross  200B  325.0050669305063 ...      Ross  200           1.2\n",
      "            ...                ... ...            ...           ...\n",
      "      Ross 1051 226.07709920323748 ...                           --\n",
      " PM J18087-2632 272.19806065879413 ...                           --\n",
      " PM J11117-5620 167.94598029396457 ...                           --\n",
      " UPM J1635-5202 248.90500288957998 ...                           --\n",
      "    BD+20  1790 110.93162228309001 ...                           --\n",
      "      HD 122862 212.11318102598204 ...                           --\n",
      "      L  118-22    331.92973802514 ...                           --\n",
      "     LP  441-17 222.01379470287793 ...                           --\n",
      "Length = 10146 rows\n"
     ]
    }
   ],
   "source": [
    "print(catalog)"
   ]
  },
  {
   "cell_type": "markdown",
   "id": "dac2e2df",
   "metadata": {},
   "source": [
    "We can see that we obtained a table of about 10'000 stars."
   ]
  },
  {
   "cell_type": "markdown",
   "id": "928ebe77",
   "metadata": {},
   "source": [
    "## Processing the result\n",
    "### Removing non main-sequence stars\n",
    "For the LIFE mission we are only interested in main sequence stars so in the next step we remove all other stars. We first remove those without main sequence temperature classes (e.g. white dwarfs). "
   ]
  },
  {
   "cell_type": "code",
   "execution_count": 87,
   "id": "1bc48dbf",
   "metadata": {},
   "outputs": [],
   "source": [
    "ms_tempclass=np.array(['O','B','A','F','G','K','M'])\n",
    "cat_ms_tempclass=catalog[np.where(np.in1d(catalog['class_temp'],ms_tempclass))]"
   ]
  },
  {
   "cell_type": "markdown",
   "id": "2266ada0",
   "metadata": {},
   "source": [
    "Next we remove objects that are not main sequence in luminocity class."
   ]
  },
  {
   "cell_type": "code",
   "execution_count": 88,
   "id": "5c3c5b8f",
   "metadata": {},
   "outputs": [
    {
     "name": "stdout",
     "output_type": "stream",
     "text": [
      "   main_id           coo_ra       ... parent_main_id sep_ang_value\n",
      "                      deg         ...                    arcsec   \n",
      "-------------- ------------------ ... -------------- -------------\n",
      "   *  61 Cyg B  316.7302660185276 ...      *  61 Cyg          17.5\n",
      "   *  61 Cyg A  316.7247482895925 ...      *  61 Cyg          17.5\n",
      "   L 1578-44 A 324.16073469423293 ...      L 1578-44           1.0\n",
      "    HD 239960B  336.9991483422729 ...      HD 239960          71.9\n",
      "    HD 239960A  336.9981564512275 ...      HD 239960          71.9\n",
      "     HD 179958 288.02093934795624 ...    BD+49  2959         196.0\n",
      "     HD 179957 288.01949584708956 ...    BD+49  2959         196.0\n",
      "           ...                ... ...            ...           ...\n",
      "     LP  762-3 348.04710312658415 ...                           --\n",
      "      G  88-37    113.12901513156 ...                           --\n",
      "PM J13306-2039 202.67061817480206 ...                           --\n",
      "     Ross 1051 226.07709920323748 ...                           --\n",
      "PM J11117-5620 167.94598029396457 ...                           --\n",
      "   BD+20  1790 110.93162228309001 ...                           --\n",
      "     HD 122862 212.11318102598204 ...                           --\n",
      "    LP  441-17 222.01379470287793 ...                           --\n",
      "Length = 5766 rows\n"
     ]
    }
   ],
   "source": [
    "ms_lumclass=np.array(['V'])\n",
    "cat_ms_lumclass=cat_ms_tempclass[np.where(np.in1d(cat_ms_tempclass['class_lum'],ms_lumclass))]\n",
    "print(cat_ms_lumclass)"
   ]
  },
  {
   "cell_type": "markdown",
   "id": "1939546b",
   "metadata": {},
   "source": [
    "Now for the final catalog we want to have stellar mass values for each object. Currently the database is not able to assign model masses to some of the spectral types. This is the case when instad of M3.0V something like dM3.0, M or M (3) V is given in sptype_string. This will be implemented in one of the future database releases but for now we will just remove all objects without entries in mass_st_value."
   ]
  },
  {
   "cell_type": "code",
   "execution_count": 89,
   "id": "439d2f3b",
   "metadata": {},
   "outputs": [
    {
     "name": "stdout",
     "output_type": "stream",
     "text": [
      "        main_id         mass_st_value sptype_string\n",
      "                           solMass                 \n",
      "----------------------- ------------- -------------\n",
      "             LP  546-51            --             M\n",
      "       UCAC3 190-156729            --             M\n",
      "               G 123-49            --        M2.5Ve\n",
      "         SCR J1639-4652            --            MV\n",
      "              L   60-13            --             M\n",
      "        UCAC2   1564860            --             M\n",
      "              L  443-59            --             M\n",
      "                    ...           ...           ...\n",
      "            CD-34  1169            --             M\n",
      "               G 111-52            --             M\n",
      "            PG 0943+489            --           dMe\n",
      "        LSPM J1954+1738            --             M\n",
      "            [LM84] 5-47            --             M\n",
      "              HD 170209            --         K(2)V\n",
      "             [BEM91] 11            --            MV\n",
      "2MASS J05171315-7706040            --             M\n",
      "Length = 27 rows\n"
     ]
    }
   ],
   "source": [
    "print(cat_ms_lumclass['main_id', 'mass_st_value','sptype_string'][cat_ms_lumclass['mass_st_value'].mask.nonzero()[0]])\n",
    "cat_ms_lumclass.remove_rows(cat_ms_lumclass['mass_st_value'].mask.nonzero()[0])"
   ]
  },
  {
   "cell_type": "markdown",
   "id": "6a57bbe1",
   "metadata": {},
   "source": [
    "wait, we want to assume main sequence if nothing is given... and then I could also get masses for them... but I wouldn't necessary have it in the db...\n",
    "I faintly remember we were also interested in IV stars, but can't remember why. tried to look it up in the paper but couldn't find it. maybe in the report?\n",
    "\"We did, however, keep the ones with no luminocity class given assuming them to be main sequence stars. This is justified as the main sequence is the longest lasting evolutionary period of a star leaving the great majority of stars in this stage.\" states why the assumption of main sequence is ok.\n",
    "found out we only included main sequence for modeling reasons. so I need to exclude all else and therefore also found a bug from StarCat4"
   ]
  },
  {
   "cell_type": "markdown",
   "id": "2baa090f",
   "metadata": {},
   "source": [
    "### removing higher order multiples\n",
    "For the LIFE catalog we want single stars and wide binaries that can be approximated as single stars. For that we now split the sample into single and multiple stars:"
   ]
  },
  {
   "cell_type": "code",
   "execution_count": 91,
   "id": "0dff9a54",
   "metadata": {},
   "outputs": [
    {
     "name": "stdout",
     "output_type": "stream",
     "text": [
      "3495 2244\n"
     ]
    }
   ],
   "source": [
    "singles=cat_ms_lumclass[np.where(cat_ms_lumclass['binary_flag']=='False')]\n",
    "multiples=cat_ms_lumclass[np.where(cat_ms_lumclass['binary_flag']=='True')]\n",
    "print(len(singles),len(multiples))"
   ]
  },
  {
   "cell_type": "markdown",
   "id": "d1aee1a4",
   "metadata": {},
   "source": [
    "Next we remove higher order multiples. That means we remove systems like shown in the nextled multiples part of the following figure:\n",
    "![title](multiplicity.png)"
   ]
  },
  {
   "cell_type": "markdown",
   "id": "675fc369",
   "metadata": {},
   "source": [
    "To do that we first remove those objects, where the parent object is a child object as well. In the example above that would be \"system AB\". For that we need to get the hierarchy table from life_td. "
   ]
  },
  {
   "cell_type": "code",
   "execution_count": 92,
   "id": "e26b0285",
   "metadata": {},
   "outputs": [],
   "source": [
    "adql_query2=\"\"\"\n",
    "    SELECT o.main_id as child_main_id,o.object_id\n",
    "    FROM life_td.object AS o\n",
    "    JOIN life_td.h_link AS h on o.object_id=h.child_object_idref\n",
    "    \"\"\"\n",
    "h_link=query(service,adql_query2)"
   ]
  },
  {
   "cell_type": "code",
   "execution_count": 93,
   "id": "a523b43d",
   "metadata": {},
   "outputs": [],
   "source": [
    "higher_order_multiples=np.in1d(multiples['parent_main_id'],\\\n",
    "        h_link['child_main_id'])\n",
    "multiples.remove_rows(higher_order_multiples)"
   ]
  },
  {
   "cell_type": "markdown",
   "id": "92965eca",
   "metadata": {},
   "source": [
    "where multiple parent objects for one object given e.g. *  9 Aur has as parent WDS J05067+5136AB, WDS J05067+5136AC and WDS J05067+5136AE given."
   ]
  },
  {
   "cell_type": "code",
   "execution_count": 94,
   "id": "6584e1ad",
   "metadata": {},
   "outputs": [
    {
     "name": "stdout",
     "output_type": "stream",
     "text": [
      "1031\n"
     ]
    }
   ],
   "source": [
    "multi_parent=[]\n",
    "grouped=multiples.group_by('main_id')\n",
    "ind=grouped.groups.indices\n",
    "for i in range(len(ind)-1):\n",
    "    if ind[i+1]-ind[i]!=1:\n",
    "        multi_parent.append(grouped['main_id'][ind[i]])\n",
    "\n",
    "single_parent_multiples=grouped[np.where(np.invert(np.in1d(grouped['main_id'],multi_parent)))]\n",
    "print(len(single_parent_multiples))"
   ]
  },
  {
   "cell_type": "markdown",
   "id": "02b52bcd",
   "metadata": {},
   "source": [
    "since we want to get wide binaries the next step is to have a look at the given separation values. Removing those binaries where no separation value given"
   ]
  },
  {
   "cell_type": "code",
   "execution_count": 95,
   "id": "c4b22bde",
   "metadata": {},
   "outputs": [],
   "source": [
    "sep_multiples=single_parent_multiples[np.where(single_parent_multiples['sep_ang_value'].mask==False)].copy()"
   ]
  },
  {
   "cell_type": "markdown",
   "id": "3508b125",
   "metadata": {},
   "source": [
    "Transforming from angular separation into physical one"
   ]
  },
  {
   "cell_type": "code",
   "execution_count": 96,
   "id": "f0b14757",
   "metadata": {},
   "outputs": [],
   "source": [
    "sep_multiples['sep_phys_value']=sep_multiples['sep_ang_value']#just initiating new column with same properties \n",
    "sep_multiples['sep_phys_value'].unit=ap.units.AU\n",
    "for i in range(len(sep_multiples)):\n",
    "    sep_multiples['sep_phys_value'][i]=np.round(\n",
    "            sep_multiples['sep_ang_value'][i]*sep_multiples['dist_st_value'][i],1)"
   ]
  },
  {
   "cell_type": "markdown",
   "id": "170e12a8",
   "metadata": {},
   "source": [
    "Keeping only binaries where both components fulfill requirements.\n",
    " meaning having the parameters we need for critical sep \n",
    " computation (main sequence & sep given)"
   ]
  },
  {
   "cell_type": "code",
   "execution_count": 97,
   "id": "12358487",
   "metadata": {},
   "outputs": [],
   "source": [
    "grouped_multiples=sep_multiples.group_by('parent_main_id')\n",
    "ind=grouped_multiples.groups.indices\n",
    "\n",
    "result=grouped_multiples[:0].copy()\n",
    "\n",
    "for i in range(len(ind)-1):\n",
    "    l=ind[i+1]-ind[i]\n",
    "    if l==2:\n",
    "        result.add_row(grouped_multiples[ind[i]])\n",
    "        result.add_row(grouped_multiples[ind[i]+1])"
   ]
  },
  {
   "cell_type": "code",
   "execution_count": 99,
   "id": "a862087a",
   "metadata": {},
   "outputs": [
    {
     "name": "stdout",
     "output_type": "stream",
     "text": [
      "478\n"
     ]
    }
   ],
   "source": [
    "print(len(result))"
   ]
  },
  {
   "cell_type": "markdown",
   "id": "11676300",
   "metadata": {},
   "source": [
    "### Wide binaries\n",
    "Now we actually focus on the wide binaries. This means we keep only objects where <10 AU planet orbits are stable. For that we use the formula from Holman and Wiegert 1999 while assuming circular orbits and neglegt projection effects of the bianry separations.\n",
    "The following function computes the critical separation beyond which a planet on a S-type orbit is not stable any more."
   ]
  },
  {
   "cell_type": "code",
   "execution_count": 100,
   "id": "496ae89d",
   "metadata": {},
   "outputs": [],
   "source": [
    "def crit_sep(eps,mu,a_bin):\n",
    "    \"\"\"\n",
    "    Computes critical semimajor-axis for planet orbit stability.\n",
    "\n",
    "    For binary system as described in Holman and Wiegert 1999.\n",
    "\n",
    "    :param eps: Binary orbit excentricity.\n",
    "    :type eps:\n",
    "    :param mu: mass fraction with mu=m_s/(m_p+m_s), with m_s the mass \n",
    "        of the star considered as perturbing binary companion and m_p \n",
    "        the mass of the star the planet is orbiting.\n",
    "    :type mu:\n",
    "    :param a_bin: semimajor-axis of the binary stars.\n",
    "    :type a_bin:\n",
    "    :returns: Critical separation beyond which a planet on a S-type \n",
    "        orbit (circumstellar) and on a P-type orbit (circumbinary) is \n",
    "        not stable any more.\n",
    "    :rtype: \n",
    "    \"\"\"\n",
    "    a_crit_s=(0.464-0.38*mu-0.631*eps+0.586*mu*eps+0.15*eps**2\\\n",
    "              -0.198*mu*eps**2)*a_bin\n",
    "    a_crit_p=(1.6+5.1*eps-2.22*eps**2+4.12*mu-4.27*eps*mu-5.09*mu**2\\\n",
    "              +4.61*eps**2*mu**2)*a_bin\n",
    "    return a_crit_s,a_crit_p"
   ]
  },
  {
   "cell_type": "markdown",
   "id": "342f5d86",
   "metadata": {},
   "source": [
    "Now we assign the critical separation to each binary component."
   ]
  },
  {
   "cell_type": "code",
   "execution_count": 101,
   "id": "5cb7d3b1",
   "metadata": {},
   "outputs": [],
   "source": [
    "result['a_crit_s']=result['sep_phys_value']#initializing column a... like sep...\n",
    "\n",
    "for i in range(len(result)):\n",
    "    m_p=result['mass_st_value'][i]\n",
    "    if i % 2 == 0:\n",
    "        m_s=result['mass_st_value'][i+1]\n",
    "    else:\n",
    "        m_s=result['mass_st_value'][i-1]\n",
    "    mu=m_s/(m_p+m_s)\n",
    "    result['a_crit_s'][i]=crit_sep(0,mu,result['sep_phys_value'][i])[0]\n",
    "    #assumed circular orbit and sep_phys = a_bin"
   ]
  },
  {
   "cell_type": "markdown",
   "id": "f871bfe2",
   "metadata": {},
   "source": [
    "Next we keep only those where orbits up to 10AU are stable."
   ]
  },
  {
   "cell_type": "code",
   "execution_count": 102,
   "id": "a9415579",
   "metadata": {},
   "outputs": [],
   "source": [
    "final=result[:0].copy()\n",
    "#wait, didn't I already define this? -> was before removing some\n",
    "ind=result.group_by('parent_main_id').groups.indices\n",
    "a_max=10.\n",
    "\n",
    "for i in range(len(ind)-1):\n",
    "    if a_max < min(result['a_crit_s'][ind[i]],result['a_crit_s'][ind[i]+1]):\n",
    "        final.add_row(result[ind[i]])\n",
    "        final.add_row(result[ind[i]+1])"
   ]
  },
  {
   "cell_type": "code",
   "execution_count": 103,
   "id": "06b1a48c",
   "metadata": {},
   "outputs": [
    {
     "name": "stdout",
     "output_type": "stream",
     "text": [
      "424\n"
     ]
    }
   ],
   "source": [
    "print(len(final))"
   ]
  },
  {
   "cell_type": "markdown",
   "id": "9ef02c93",
   "metadata": {},
   "source": [
    "now combining singles and multiples into one sample again"
   ]
  },
  {
   "cell_type": "code",
   "execution_count": 104,
   "id": "a832b4dd",
   "metadata": {},
   "outputs": [],
   "source": [
    "StarCat4=ap.table.vstack([singles,final])"
   ]
  },
  {
   "cell_type": "markdown",
   "id": "bf23ed14",
   "metadata": {},
   "source": [
    "### adding architecture parameter\n",
    "For mission design trade space we are interested in the ability to take subsamples of the stars depending on ecliptic angle. "
   ]
  },
  {
   "cell_type": "code",
   "execution_count": 105,
   "id": "60815e29",
   "metadata": {},
   "outputs": [],
   "source": [
    "def ecliptic(ang,ra,dec):\n",
    "    \"\"\"\n",
    "    Computes if position is within angle from the ecliptic.\n",
    "    \n",
    "    Flag any object whose declination is contained within the region \n",
    "    between -(23.4+angle)*sin(RA) and +(23.4+angle)*sin(RA) with the \n",
    "    object's RA in degrees.\n",
    "\n",
    "    :param ang: Angle in degrees.\n",
    "    :type ang:\n",
    "    :param ra: Right ascention in degrees.\n",
    "    :type ra: np.array\n",
    "    :param dec: Array of declination in degrees.\n",
    "    :type dec: np.array\n",
    "    :returns: Flags.\n",
    "    :rtype: np.array\n",
    "    \"\"\"\n",
    "    ecliptic=(23.4)*np.sin(2*np.pi*ra/360)\n",
    "    flag=['True' if dec[j] > -ang+ecliptic[j] and dec[j] < ang+ecliptic[j] \\\n",
    "            else 'False' for j in range(len(ra))]\n",
    "    return flag\n",
    "\n",
    "StarCat4['ecliptic_pm45deg']=ecliptic(45,StarCat4['coo_ra'],\\\n",
    "        StarCat4['coo_dec'])"
   ]
  },
  {
   "cell_type": "markdown",
   "id": "14495999",
   "metadata": {},
   "source": [
    "showing and saving"
   ]
  },
  {
   "cell_type": "code",
   "execution_count": 107,
   "id": "49ff0abf",
   "metadata": {},
   "outputs": [
    {
     "name": "stdout",
     "output_type": "stream",
     "text": [
      "    main_id           coo_ra       ...      a_crit_s      ecliptic_pm45deg\n",
      "                       deg         ...         AU                         \n",
      "--------------- ------------------ ... ------------------ ----------------\n",
      " PM J17198+2833    259.96283461373 ...                 --            False\n",
      "SIPS J0004-2058 1.1727816434729168 ...                 --             True\n",
      " PM J16299+0453    247.47772620577 ...                 --             True\n",
      "      L  372-58 53.998746505525006 ...                 --            False\n",
      " PM J23229+3717  350.7432076933599 ...                 --             True\n",
      "      Ross  324  19.46095056389333 ...                 --             True\n",
      "      Wolf 1506  15.32345014843625 ...                 --             True\n",
      "            ...                ... ...                ...              ...\n",
      "     AG+14 2584    347.47892010478 ... 178.16432826842234             True\n",
      "      HD 218687    347.48792009444 ...  254.3978378161175             True\n",
      "    BD-20  6558 348.56928489779494 ...  56.88818207592174             True\n",
      "   BD-20  6558B 348.56858731544924 ...  26.26356941561439             True\n",
      "      HD 219495  349.3223197803505 ...  532.3921112582782            False\n",
      "      HD 219509  349.3366964372421 ...  557.6116927152319            False\n",
      "    Wolf 1561 A 334.32905356941666 ... 27.215988273615633             True\n",
      "    Wolf 1561 B  334.3279097421108 ... 20.789785016286647             True\n",
      "Length = 3919 rows\n"
     ]
    }
   ],
   "source": [
    "print(StarCat4)\n",
    "#add final plot\n",
    "save([StarCat4],['StarCat4'])"
   ]
  },
  {
   "cell_type": "markdown",
   "id": "99ddc44f",
   "metadata": {},
   "source": [
    "The stellar sample was compiled from querying the LIFE database (Menti et al. 2021) for stellar objects within 30 pc. Appart from the new source we tried to keep the criteria for inclusion into the catalog as similar to the ones from the previous LIFE catalog version as possible. This allows us to compare the two versions better before changing the criteria in the next catalog version (LIFE-StarCat5) again. (Among others to include higher order systems since they could have better chances for hosting life but in current version not included due to complexity e.g. centaury system). We started by removed objects with luminosity class I, II and III as we focused on main-sequence stars (or close to). In case no luminosity class was given we assumed the objects were main-sequence objects. In order to assess which objects are members of binary or multiple systems we used the LIFE database's hierarchical link. This feature connects an object with its parent and child objects. We therefore removed objects which were neither single stars nor trivial binaries. Concretely we removed objects where either the parent object of the star is istself a child object of another system, where multiple parent objects were given for the same star or which had more than one companion. As a note of caution this classification in the LIFE database is heavily based on Washington Visual Double Star Catalog (WDS; Mason et al. 2001) which in term only describes visual multiples and therefore contains some objects that are not physically bound. We also removed objects with incomplete information for the stellar parameters (this step also included binaries, where one component was not listed as a main-sequence star) or no separation between the binaries was given. In order to ensure that all stellar components of the remaining binary systems could harbor stable planetary systems between 0.5 and 10 AU we transformed the angular separation into physical and used it together with the stability criterion from Holman & Wiegert (1999) that takes into account the stellar masses, their separation and the eccentricity of the binary orbit (which we assumed to be zero). Systems that did not fulfill this stability criterion were removed. Finally we introduced a new parameter for future mission architecture analysis in which we flag objects that are contained within \\pm 45 degrees of the ecliptic plane. This simulates the loss of targets by not full sky field of view. The catalog consists of 3909 stars in total (434 wide binary components and 3475 single stars)."
   ]
  }
 ],
 "metadata": {
  "kernelspec": {
   "display_name": "Python 3 (ipykernel)",
   "language": "python",
   "name": "python3"
  },
  "language_info": {
   "codemirror_mode": {
    "name": "ipython",
    "version": 3
   },
   "file_extension": ".py",
   "mimetype": "text/x-python",
   "name": "python",
   "nbconvert_exporter": "python",
   "pygments_lexer": "ipython3",
   "version": "3.10.12"
  }
 },
 "nbformat": 4,
 "nbformat_minor": 5
}
