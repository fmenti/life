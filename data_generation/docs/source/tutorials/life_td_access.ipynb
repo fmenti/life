{
 "cells": [
  {
   "cell_type": "markdown",
   "id": "6ac7d6d6",
   "metadata": {},
   "source": [
    "# LIFE Target Database Access\n",
    "## Introduction\n",
    "To access the data from the LIFE database you can either use the \n",
    "graphical user interface TOPCAT https://www.star.bris.ac.uk/~mbt/topcat/ or do it in a python environment."
   ]
  },
  {
   "cell_type": "markdown",
   "id": "f805b994",
   "metadata": {},
   "source": [
    "### TOPCAT\n",
    "Install TOPCAT. Lunch TOPCAT. Click the \"VO\" button on the top header. Click on \"Table Access Protocol (TAP) Query\". In the newly opened window choose from the dropdown menue of \"All TAP services\" the \"GAVO DC TAP\" one."
   ]
  },
  {
   "cell_type": "markdown",
   "id": "b4ea879b",
   "metadata": {},
   "source": [
    "### Python\n",
    "We'll use the virtual observatory tool PyVO to query the database."
   ]
  },
  {
   "cell_type": "code",
   "execution_count": 1,
   "id": "c5a667f2",
   "metadata": {},
   "outputs": [],
   "source": [
    "import pyvo as vo"
   ]
  },
  {
   "cell_type": "markdown",
   "id": "3465e0cd",
   "metadata": {},
   "source": [
    "Feel free to adapt the adql_query variable to your liking. If you are unsure of what else you could query have a look at the provided examples http://dc.zah.uni-heidelberg.de/life/q/ex/examples"
   ]
  },
  {
   "cell_type": "code",
   "execution_count": 2,
   "id": "56765924",
   "metadata": {},
   "outputs": [],
   "source": [
    "adql_query=\"\"\"\n",
    "        SELECT TOP 10 object_id, main_id FROM life_td.object\n",
    "        WHERE type='st'\"\"\""
   ]
  },
  {
   "cell_type": "code",
   "execution_count": 3,
   "id": "22cf16dc",
   "metadata": {},
   "outputs": [],
   "source": [
    "link='http://dc.zah.uni-heidelberg.de/tap'"
   ]
  },
  {
   "cell_type": "code",
   "execution_count": 4,
   "id": "a5b8b99d",
   "metadata": {},
   "outputs": [],
   "source": [
    "service = vo.dal.TAPService(link)"
   ]
  },
  {
   "cell_type": "code",
   "execution_count": 5,
   "id": "481a04f6",
   "metadata": {},
   "outputs": [],
   "source": [
    "result=service.run_async(adql_query.format(**locals()),\n",
    "                                                maxrec=160000)"
   ]
  },
  {
   "cell_type": "code",
   "execution_count": 6,
   "id": "8975615a",
   "metadata": {},
   "outputs": [],
   "source": [
    "catalog=result.to_table()"
   ]
  },
  {
   "cell_type": "code",
   "execution_count": 7,
   "id": "9dba2906",
   "metadata": {},
   "outputs": [
    {
     "name": "stdout",
     "output_type": "stream",
     "text": [
      "object_id   main_id  \n",
      "--------- -----------\n",
      "        2 *   1 Hya B\n",
      "        3 *   1 Hya C\n",
      "        5   *   5 LMi\n",
      "        7   *   5 Ser\n",
      "        8 *   5 Ser B\n",
      "        9   *   6 And\n",
      "       10   *   6 Cet\n",
      "       11   *   7 And\n",
      "       12   *   8 Dra\n",
      "       13   *   9 Aur\n"
     ]
    }
   ],
   "source": [
    "print(catalog)"
   ]
  }
 ],
 "metadata": {
  "kernelspec": {
   "display_name": "Python 3 (ipykernel)",
   "language": "python",
   "name": "python3"
  },
  "language_info": {
   "codemirror_mode": {
    "name": "ipython",
    "version": 3
   },
   "file_extension": ".py",
   "mimetype": "text/x-python",
   "name": "python",
   "nbconvert_exporter": "python",
   "pygments_lexer": "ipython3",
   "version": "3.10.12"
  }
 },
 "nbformat": 4,
 "nbformat_minor": 5
}
