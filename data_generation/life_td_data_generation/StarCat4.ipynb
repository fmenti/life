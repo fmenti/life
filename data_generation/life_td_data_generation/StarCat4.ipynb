{
 "cells": [
  {
   "cell_type": "markdown",
   "id": "99ddc44f",
   "metadata": {},
   "source": [
    "# LIFE Star Catalog\n",
    "\n",
    "One of the main use cases of the LIFE Target Database is to enable the creation of the LIFE Star Catalog (LIFE-StarCat). It is the stellar sample of potential targets that is used be LIFEsim provide mission yield estimates.\n",
    "\n",
    "The creation of the fourth version (LIFE-StarCat4) requires python 3 as well as the packages numpy, pyvo and astropy. Below the detailed explanation of its construction:\n",
    "\n",
    "The stellar sample was compiled from querying the LIFE database (Menti et al. 2021) for stellar objects within 30 pc. Appart from the new source we tried to keep the criteria for inclusion into the catalog as similar to the ones from the previous LIFE catalog version as possible. This allows us to compare the two versions better before changing the criteria in the next catalog version (LIFE-StarCat5) again. (Among others to include higher order systems since they could have better chances for hosting life but in current version not included due to complexity e.g. centaury system). We started by removed objects with luminosity class I, II and III as we focused on main-sequence stars (or close to). In case no luminosity class was given we assumed the objects were main-sequence objects. In order to assess which objects are members of binary or multiple systems we used the LIFE database's hierarchical link. This feature connects an object with its parent and child objects. We therefore removed objects which were neither single stars nor trivial binaries. Concretely we removed objects where either the parent object of the star is istself a child object of another system, where multiple parent objects were given for the same star or which had more than one companion. As a note of caution this classification in the LIFE database is heavily based on Washington Visual Double Star Catalog (WDS; Mason et al. 2001) which in term only describes visual multiples and therefore contains some objects that are not physically bound. We also removed objects with incomplete information for the stellar parameters (this step also included binaries, where one component was not listed as a main-sequence star) or no separation between the binaries was given. In order to ensure that all stellar components of the remaining binary systems could harbor stable planetary systems between 0.5 and 10 AU we transformed the angular separation into physical and used it together with the stability criterion from Holman & Wiegert (1999) that takes into account the stellar masses, their separation and the eccentricity of the binary orbit (which we assumed to be zero). Systems that did not fulfill this stability criterion were removed. Finally we introduced a new parameter for future mission architecture analysis in which we flag objects that are contained within \\pm 45 degrees of the ecliptic plane. This simulates the loss of targets by not full sky field of view. The catalog consists of 3909 stars in total (434 wide binary components and 3475 single stars)."
   ]
  },
  {
   "cell_type": "code",
   "execution_count": null,
   "id": "dea4ddb5",
   "metadata": {},
   "outputs": [],
   "source": []
  }
 ],
 "metadata": {
  "kernelspec": {
   "display_name": "Python 3 (ipykernel)",
   "language": "python",
   "name": "python3"
  },
  "language_info": {
   "codemirror_mode": {
    "name": "ipython",
    "version": 3
   },
   "file_extension": ".py",
   "mimetype": "text/x-python",
   "name": "python",
   "nbconvert_exporter": "python",
   "pygments_lexer": "ipython3",
   "version": "3.10.12"
  }
 },
 "nbformat": 4,
 "nbformat_minor": 5
}
