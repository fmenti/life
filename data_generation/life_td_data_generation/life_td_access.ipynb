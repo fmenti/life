{
 "cells": [
  {
   "cell_type": "markdown",
   "id": "b4ea879b",
   "metadata": {},
   "source": [
    "# LIFE Target Database Access\n",
    "## Introduction\n",
    "To access the data from the LIFE database you can either use the \n",
    "graphical user interface `TOPCAT <https://www.star.bris.ac.uk/~mbt/\n",
    "topcat/>`_ or do it in a python environment.\n",
    "\n",
    "### TOPCAT:\n",
    "Install TOPCAT. Lunch TOPCAT. Click the \"VO\" button on the top header. Click on \"Table Access Protocol (TAP) Query\". In the newly opened window choose from the dropdown menue of \"All TAP services\" the \"GAVO DC TAP\" one.\n",
    "\n",
    "### Python"
   ]
  },
  {
   "cell_type": "code",
   "execution_count": 1,
   "id": "c5a667f2",
   "metadata": {},
   "outputs": [],
   "source": [
    "import pyvo as vo"
   ]
  },
  {
   "cell_type": "markdown",
   "id": "3465e0cd",
   "metadata": {},
   "source": [
    "Feel free to adapt the adql_query variable to your liking. If you are unsure of what else you could query have a look at the provided `examples <http://dc.zah.uni-heidelberg.de/life/q/ex/examples>`_."
   ]
  },
  {
   "cell_type": "code",
   "execution_count": null,
   "id": "56765924",
   "metadata": {},
   "outputs": [],
   "source": [
    "adql_query=\"\"\"\n",
    "        SELECT TOP 10 object_id, main_id FROM life_td.object\n",
    "        WHERE type='st'\"\"\""
   ]
  },
  {
   "cell_type": "code",
   "execution_count": null,
   "id": "22cf16dc",
   "metadata": {},
   "outputs": [],
   "source": [
    "link='http://dc.zah.uni-heidelberg.de/tap'"
   ]
  },
  {
   "cell_type": "code",
   "execution_count": null,
   "id": "a5b8b99d",
   "metadata": {},
   "outputs": [],
   "source": [
    "service = vo.dal.TAPService(link)"
   ]
  },
  {
   "cell_type": "code",
   "execution_count": null,
   "id": "481a04f6",
   "metadata": {},
   "outputs": [],
   "source": [
    "result=service.run_async(adql_query.format(**locals()),\n",
    "                                                maxrec=160000)"
   ]
  },
  {
   "cell_type": "code",
   "execution_count": null,
   "id": "8975615a",
   "metadata": {},
   "outputs": [],
   "source": [
    "catalog=result.to_table()"
   ]
  }
 ],
 "metadata": {
  "kernelspec": {
   "display_name": "Python 3 (ipykernel)",
   "language": "python",
   "name": "python3"
  },
  "language_info": {
   "codemirror_mode": {
    "name": "ipython",
    "version": 3
   },
   "file_extension": ".py",
   "mimetype": "text/x-python",
   "name": "python",
   "nbconvert_exporter": "python",
   "pygments_lexer": "ipython3",
   "version": "3.10.12"
  }
 },
 "nbformat": 4,
 "nbformat_minor": 5
}
