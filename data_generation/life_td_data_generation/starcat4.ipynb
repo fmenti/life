{
 "cells": [
  {
   "cell_type": "markdown",
   "id": "7a1b6539",
   "metadata": {},
   "source": [
    "# LIFE Star Catalog\n",
    "## Introduction\n",
    "One of the main use cases of the LIFE Target Database is to enable the creation of the LIFE Star Catalog (LIFE-StarCat). It is the stellar sample of potential targets that is used by LIFEsim to provide mission yield estimates. In this tutorial we guide you through how the 4th version of this catalog was created."
   ]
  },
  {
   "cell_type": "markdown",
   "id": "9b986037",
   "metadata": {},
   "source": [
    "## Getting started\n",
    "We start by importing the required Python modules for this tutorial."
   ]
  },
  {
   "cell_type": "code",
   "execution_count": 1,
   "id": "ee42fe9e",
   "metadata": {},
   "outputs": [],
   "source": [
    "import numpy as np # Used for arrays\n",
    "import pyvo as vo # Used for catalog query\n",
    "import astropy as ap # Used for votables\n",
    "import math\n",
    "import sys"
   ]
  },
  {
   "cell_type": "markdown",
   "id": "e9226f74",
   "metadata": {},
   "source": [
    "Next we import the life_td_data_generation specific functions from the modules."
   ]
  },
  {
   "cell_type": "code",
   "execution_count": 3,
   "id": "ceb0544e",
   "metadata": {},
   "outputs": [],
   "source": [
    "# Self created modules\n",
    "import utils as hf\n",
    "from provider import query"
   ]
  },
  {
   "cell_type": "markdown",
   "id": "2ec66d8a",
   "metadata": {},
   "source": [
    "## Querying the Database\n",
    "We will now query the LIFE Target Database (life_td) for the data needed to create the catalog. We specify the distance cut as 30 parsec according to the latest LIFE catalog version (4)."
   ]
  },
  {
   "cell_type": "code",
   "execution_count": 4,
   "id": "5f5e68f2",
   "metadata": {},
   "outputs": [],
   "source": [
    "distance_cut=30."
   ]
  },
  {
   "cell_type": "markdown",
   "id": "7f6c04d7",
   "metadata": {},
   "source": [
    "Now we define the concrete query. It is one of the provided examples at http://dc.zah.uni-heidelberg.de/life/q/ex/examples. And also give the link for the service."
   ]
  },
  {
   "cell_type": "code",
   "execution_count": 5,
   "id": "737d236a",
   "metadata": {},
   "outputs": [],
   "source": [
    "adql_query=\"\"\"\n",
    "    SELECT o.main_id, sb.coo_ra, sb.coo_dec, sb.plx_value, sb.dist_st_value,\n",
    "        sb.sptype_string, sb.coo_gal_l, sb.coo_gal_b, sb.teff_st_value, \n",
    "        sb.mass_st_value, sb.radius_st_value, sb.binary_flag, sb.mag_i_value, \n",
    "        sb.mag_j_value,  sb.class_lum, sb.class_temp, \n",
    "        o_parent.main_id AS parent_main_id, sb_parent.sep_ang_value\n",
    "    FROM life_td.star_basic AS sb\n",
    "    JOIN life_td.object AS o ON sb.object_idref=o.object_id\n",
    "    LEFT JOIN life_td.h_link AS h ON o.object_id=h.child_object_idref\n",
    "    LEFT JOIN life_td.object AS o_parent ON \n",
    "        h.parent_object_idref=o_parent.object_id\n",
    "    LEFT JOIN life_td.star_basic AS sb_parent ON \n",
    "        o_parent.object_id=sb_parent.object_idref\n",
    "    WHERE o.type = 'st' AND sb.dist_st_value < \"\"\"+str(distance_cut) \n",
    "service='http://dc.zah.uni-heidelberg.de/tap'"
   ]
  },
  {
   "cell_type": "markdown",
   "id": "b9af69c8",
   "metadata": {},
   "source": [
    "The above query returns parameters for all objects of type star with distances smaller than 30 pc.\n",
    "\n",
    "Next we perform the actual query."
   ]
  },
  {
   "cell_type": "code",
   "execution_count": 12,
   "id": "c8e46c03",
   "metadata": {},
   "outputs": [],
   "source": [
    "catalog=query(service,adql_query)"
   ]
  },
  {
   "cell_type": "markdown",
   "id": "ae641ec6",
   "metadata": {},
   "source": [
    "Let's have a short look at what we got:"
   ]
  },
  {
   "cell_type": "code",
   "execution_count": 13,
   "id": "d0333e72",
   "metadata": {},
   "outputs": [
    {
     "name": "stdout",
     "output_type": "stream",
     "text": [
      "    main_id           coo_ra             coo_dec       plx_value ... class_temp parent_main_id sep_ang_value\n",
      "                       deg                 deg            mas    ...                               arcsec   \n",
      "--------------- ------------------ ------------------- --------- ... ---------- -------------- -------------\n",
      "    *  61 Cyg B  316.7302660185276   38.74204403329556  286.0054 ...          K      *  61 Cyg         839.8\n",
      "    *  61 Cyg A  316.7247482895925   38.74941731943694  285.9949 ...          K      *  61 Cyg         839.8\n",
      "    L 1578-44 B  324.1601460120721  39.455739652570564   47.9104 ...                 L 1578-44           1.0\n",
      "    L 1578-44 A 324.16073469423293  39.455702049799726   48.1082 ...          M      L 1578-44           1.0\n",
      "UPM J2325+4717B  351.4090302929913   47.28469225673499   40.4566 ...            UPM J2325+4717            --\n",
      "UPM J2325+4717A  351.4091812460812  47.284885878289714   40.1923 ...            UPM J2325+4717            --\n",
      "     Ross  200B  325.0050669305063   54.13839744237028   33.9232 ...                 Ross  200           1.2\n",
      "     Ross  200A  325.0044367358217   54.13824710939444   34.0773 ...                 Ross  200           1.2\n",
      "     HD 239960B  336.9991483422729  57.697151875743884  249.9668 ...          M      HD 239960          83.0\n",
      "     HD 239960A  336.9981564512275   57.69502237771611  249.3926 ...          M      HD 239960          83.0\n",
      "      G 241-62B  355.0333033789425  60.688219417643886   39.3649 ...                  G 241-62           2.4\n",
      "      G 241-62A 355.03222242622127   60.68861469790277   39.7683 ...                  G 241-62           2.4\n",
      "            ...                ...                 ...       ... ...        ...            ...           ...\n",
      "    LP  590-137 37.041173968740004  3.1828659371188888   44.0728 ...          M                           --\n",
      "       G   9-46 136.55880737652248  12.859608878352498   34.1735 ...          M                           --\n",
      "      HD 232781 50.478152114512504   52.33152260586167   41.8285 ...          K                           --\n",
      "      LP  764-9  2.322159297914583 -19.708782661080278   34.4332 ...          M                           --\n",
      " SCR J0017-3219      4.31551311889  -32.33161947571999   33.8793 ...          M                           --\n",
      " PM J18244-2521  276.1237686482483 -25.352651147679722   33.8043 ...                                      --\n",
      " UPM J1704-5125    256.07787742187 -51.432607818079994   36.6183 ...                                      --\n",
      "    BD+20  1790 110.93162228309001      20.41629184606   36.0856 ...          K                           --\n",
      "      HD 124580     213.9111877452      -45.0007555958   47.8421 ...          G                           --\n",
      "     LP  892-51  82.76803446947667 -30.195753349373053   65.3303 ...          M                           --\n",
      "      L  122-81 0.6392027083037499  -63.40199694789472   36.1378 ...                                      --\n",
      "     LP  444-35 243.63592797866295   19.10301975834889   58.8764 ...          M                           --\n",
      "Length = 10135 rows\n"
     ]
    }
   ],
   "source": [
    "print(catalog)"
   ]
  },
  {
   "cell_type": "markdown",
   "id": "dac2e2df",
   "metadata": {},
   "source": [
    "We can see that we obtained a table of about 10'000 stars."
   ]
  },
  {
   "cell_type": "markdown",
   "id": "928ebe77",
   "metadata": {},
   "source": [
    "## Processing the result\n",
    "### Removing non main-sequence stars\n",
    "For the LIFE mission we are only interested in main sequence stars so in the next step we remove all other stars. We first remove those without main sequence temperature classes (e.g. white dwarfs). "
   ]
  },
  {
   "cell_type": "code",
   "execution_count": 35,
   "id": "1bc48dbf",
   "metadata": {},
   "outputs": [],
   "source": [
    "ms_tempclass=np.array(['O','B','A','F','G','K','M'])\n",
    "cat=catalog[np.where(np.in1d(catalog['class_temp'],ms_tempclass))]"
   ]
  },
  {
   "cell_type": "code",
   "execution_count": 38,
   "id": "d3ebbc2f",
   "metadata": {},
   "outputs": [
    {
     "name": "stdout",
     "output_type": "stream",
     "text": [
      "        main_id           mass_st_value    sptype_string\n",
      "                             solMass                    \n",
      "----------------------- ------------------ -------------\n",
      "              G 227-48B               0.27         M3.51\n",
      "               G 221-27              0.184            M4\n",
      "              G  96-29B              0.184           M4:\n",
      "            * mu. Dra C               0.27           M3:\n",
      "             HD 154712B               0.73            K4\n",
      "          LP   97-674 A                0.4          M2.2\n",
      "       RX J1206.9+7007A               0.27          M3.5\n",
      "              * i Boo B                0.9           G9:\n",
      "             Ross  110B               0.27          M3.5\n",
      "             Ross  110A               0.27          M3.5\n",
      "             HD  13513A               0.54          M0.0\n",
      "             G 274-138B              0.184            M4\n",
      "                    ...                ...           ...\n",
      "               G 129-49               0.27         M3.44\n",
      "    ASAS J091728+1348.6              0.184            M4\n",
      "               G  85-48              0.184         M4.00\n",
      "         UPM J0405+3719              0.123            M5\n",
      "               G 209-40               0.27          M3.8\n",
      "            CD-36  9107 0.6457374095916748            M0\n",
      "             LP  831-45               0.27          M3.5\n",
      "2MASS J06012552-3225117              0.184            M4\n",
      "                 WT 929               0.27            M3\n",
      "               G   9-46               0.27         M3.49\n",
      "         SCR J0017-3219              0.184          M4.5\n",
      "            BD+20  1790                0.7           K5e\n",
      "Length = 1715 rows\n"
     ]
    }
   ],
   "source": [
    "print(cat['main_id', 'mass_st_value','sptype_string'][np.where(cat['class_lum']=='')])"
   ]
  },
  {
   "cell_type": "markdown",
   "id": "1939546b",
   "metadata": {},
   "source": [
    "Now for the final catalog we want to have stellar mass values for each object. Currently the database is not able to assign model masses to some of the spectral types. This is the case when instad of M3.0V something like dM3.0, M or M (3) V is given in sptype_string. This will be implemented in one of the future database releases but for now we will just remove all objects without entries in mass_st_value."
   ]
  },
  {
   "cell_type": "code",
   "execution_count": 25,
   "id": "439d2f3b",
   "metadata": {},
   "outputs": [],
   "source": [
    "cat.remove_rows(cat['mass_st_value'].mask.nonzero()[0])"
   ]
  },
  {
   "cell_type": "markdown",
   "id": "2266ada0",
   "metadata": {},
   "source": [
    "Next we remove objects that are not main sequence in luminocity class."
   ]
  },
  {
   "cell_type": "code",
   "execution_count": null,
   "id": "5c3c5b8f",
   "metadata": {},
   "outputs": [],
   "source": [
    "ms_lumclass=np.array(['V'])\n",
    "temp=catalog[np.where(np.in1d(catalog['class_lum'],ms_lumclass))]\n",
    "print(temp)\n",
    "print(temp[temp['mass_st_value'].mask.nonzero()[0]])"
   ]
  },
  {
   "cell_type": "markdown",
   "id": "6a57bbe1",
   "metadata": {},
   "source": [
    "wait, we want to assume main sequence if nothing is given... and then I could also get masses for them... but I wouldn't necessary have it in the db...\n",
    "I faintly remember we were also interested in IV stars, but can't remember why. tried to look it up in the paper but couldn't find it. maybe in the report?\n",
    "\"We did, however, keep the ones with no luminocity class given assuming them to be main sequence stars. This is justified as the main sequence is the longest lasting evolutionary period of a star leaving the great majority of stars in this stage.\" states why the assumption of main sequence is ok.\n",
    "found out we only included main sequence for modeling reasons. so I need to exclude all else and therefore also found a bug from StarCat4"
   ]
  },
  {
   "cell_type": "markdown",
   "id": "99ddc44f",
   "metadata": {},
   "source": [
    "The stellar sample was compiled from querying the LIFE database (Menti et al. 2021) for stellar objects within 30 pc. Appart from the new source we tried to keep the criteria for inclusion into the catalog as similar to the ones from the previous LIFE catalog version as possible. This allows us to compare the two versions better before changing the criteria in the next catalog version (LIFE-StarCat5) again. (Among others to include higher order systems since they could have better chances for hosting life but in current version not included due to complexity e.g. centaury system). We started by removed objects with luminosity class I, II and III as we focused on main-sequence stars (or close to). In case no luminosity class was given we assumed the objects were main-sequence objects. In order to assess which objects are members of binary or multiple systems we used the LIFE database's hierarchical link. This feature connects an object with its parent and child objects. We therefore removed objects which were neither single stars nor trivial binaries. Concretely we removed objects where either the parent object of the star is istself a child object of another system, where multiple parent objects were given for the same star or which had more than one companion. As a note of caution this classification in the LIFE database is heavily based on Washington Visual Double Star Catalog (WDS; Mason et al. 2001) which in term only describes visual multiples and therefore contains some objects that are not physically bound. We also removed objects with incomplete information for the stellar parameters (this step also included binaries, where one component was not listed as a main-sequence star) or no separation between the binaries was given. In order to ensure that all stellar components of the remaining binary systems could harbor stable planetary systems between 0.5 and 10 AU we transformed the angular separation into physical and used it together with the stability criterion from Holman & Wiegert (1999) that takes into account the stellar masses, their separation and the eccentricity of the binary orbit (which we assumed to be zero). Systems that did not fulfill this stability criterion were removed. Finally we introduced a new parameter for future mission architecture analysis in which we flag objects that are contained within \\pm 45 degrees of the ecliptic plane. This simulates the loss of targets by not full sky field of view. The catalog consists of 3909 stars in total (434 wide binary components and 3475 single stars)."
   ]
  },
  {
   "cell_type": "code",
   "execution_count": null,
   "id": "dea4ddb5",
   "metadata": {},
   "outputs": [],
   "source": [
    "def crit_sep(eps,mu,a_bin):\n",
    "    \"\"\"\n",
    "    Computes critical semimajor-axis for planet orbit stability.\n",
    "\n",
    "    For binary system as described in Holman and Wiegert 1999.\n",
    "\n",
    "    :param eps: Binary orbit excentricity.\n",
    "    :type eps:\n",
    "    :param mu: mass fraction with mu=m_s/(m_p+m_s), with m_s the mass \n",
    "        of the star considered as perturbing binary companion and m_p \n",
    "        the mass of the star the planet is orbiting.\n",
    "    :type mu:\n",
    "    :param a_bin: semimajor-axis of the binary stars.\n",
    "    :type a_bin:\n",
    "    :returns: Critical separation beyond which a planet on a S-type \n",
    "        orbit (circumstellar) and on a P-type orbit (circumbinary) is \n",
    "        not stable any more.\n",
    "    :rtype: \n",
    "    \"\"\"\n",
    "    a_crit_s=(0.464-0.38*mu-0.631*eps+0.586*mu*eps+0.15*eps**2\\\n",
    "              -0.198*mu*eps**2)*a_bin\n",
    "    a_crit_p=(1.6+5.1*eps-2.22*eps**2+4.12*mu-4.27*eps*mu-5.09*mu**2\\\n",
    "              +4.61*eps**2*mu**2)*a_bin\n",
    "    return a_crit_s,a_crit_p\n",
    "\n",
    "def ecliptic(ang,ra,dec):\n",
    "    \"\"\"\n",
    "    Computes if position is within angle from the ecliptic.\n",
    "\n",
    "    :param ang: Angle in degrees.\n",
    "    :type ang:\n",
    "    :param ra: Right ascention in degrees.\n",
    "    :type ra: np.array\n",
    "    :param dec: Array of declination in degrees.\n",
    "    :type dec: np.array\n",
    "    :returns: Flags.\n",
    "    :rtype: np.array\n",
    "    \"\"\"\n",
    "    ecliptic=(23.4)*np.sin(2*np.pi*ra/360)\n",
    "    flag=['True' if dec[j] > -ang+ecliptic[j] and dec[j] < ang+ecliptic[j] \\\n",
    "            else 'False' for j in range(len(ra))]\n",
    "    return flag\n",
    "\n",
    "def StarCat_creation(plx_cut,stars=[],details=False,querying=True):\n",
    "    \"\"\"\n",
    "    LIFE-StarCat4 creation\n",
    "    \n",
    "    :param plx_cut:\n",
    "    :type plx_cut:\n",
    "    :param\n",
    "    :type\n",
    "    :param\n",
    "    :type\n",
    "    :param\n",
    "    :type\n",
    "    :returns:\n",
    "    :rtype:\n",
    "    \"\"\"\n",
    "    \n",
    "    # version 3 parameters were: ra, dec, plx, distance, name, sptype, \n",
    "    # coo_gal_l, coo_gal_b, Teff, R, M, sep_phys, binary_flag, mag_i, \n",
    "    # mag_j\n",
    "    adql_query=\"\"\"\n",
    "    SELECT o.main_id, sb.coo_ra, sb.coo_dec, sb.plx_value, sb.dist_st_value,\n",
    "        sb.sptype_string, sb.coo_gal_l, sb.coo_gal_b, sb.teff_st_value, \n",
    "        sb.mass_st_value, sb.radius_st_value, sb.binary_flag, sb.mag_i_value, \n",
    "        sb.mag_j_value,  sb.class_lum, sb.class_temp, \n",
    "        o_parent.main_id AS parent_main_id, sb_parent.sep_ang_value\n",
    "    FROM life_td.star_basic AS sb\n",
    "    JOIN life_td.object AS o ON sb.object_idref=o.object_id\n",
    "    LEFT JOIN life_td.h_link AS h ON o.object_id=h.child_object_idref\n",
    "    LEFT JOIN life_td.object AS o_parent ON \n",
    "        h.parent_object_idref=o_parent.object_id\n",
    "    LEFT JOIN life_td.star_basic AS sb_parent ON \n",
    "        o_parent.object_id=sb_parent.object_idref\n",
    "    WHERE o.type = 'st' AND sb.dist_st_value < \"\"\"+str(plx_cut) \n",
    "    # we are only interested in object type stars, up to a distance cut \n",
    "    # and well defined luminocity class (to sort out objects not around \n",
    "    # main sequence)\n",
    "    service='http://dc.zah.uni-heidelberg.de/tap'\n",
    "    print(f'Getting stars with distance smaller than {plx_cut}...')\n",
    "    \n",
    "    if querying==True:\n",
    "        print('Querying life_td...')\n",
    "        cat=query(service,adql_query)\n",
    "        hf.save([cat],['StarCat4_raw'],location='data/')\n",
    "    else:\n",
    "        print('Loading StarCat4_raw...')\n",
    "        [cat]=hf.load(['StarCat4_raw'],location='data/')\n",
    "    \n",
    "    if stars!=[]:\n",
    "        stars=np.array(stars)\n",
    "        stars=hf.object_contained(stars,cat['main_id'],details)\n",
    "        \n",
    "    print('Removing objects whose temperature class is not in OBAFGKM...')\n",
    "    cat=cat[np.where(cat['class_temp']!='')]\n",
    "    cat.remove_rows(cat['mass_st_value'].mask.nonzero()[0])\n",
    "    \n",
    "    if len(stars)>0:\n",
    "        stars=hf.object_contained(stars,cat['main_id'],details)\n",
    "    \n",
    "    print('Removing objects where luminocity I, II or III...')\n",
    "    cat=cat[np.where(cat['class_lum']!='I')]\n",
    "    cat=cat[np.where(cat['class_lum']!='II')]\n",
    "    cat=cat[np.where(cat['class_lum']!='III')]\n",
    "    \n",
    "    #separating sample\n",
    "    singles=cat[np.where(cat['binary_flag']=='False')]\n",
    "    multiples=cat[np.where(cat['binary_flag']=='True')]\n",
    "\n",
    "    print('Removing higher order multiples:')\n",
    "    print('... where parent object is a child object as well.')\n",
    "    #query h_link\n",
    "    adql_query2=\"\"\"\n",
    "    SELECT o.main_id as child_main_id,o.object_id\n",
    "    FROM life_td.object AS o\n",
    "    JOIN life_td.h_link AS h on o.object_id=h.child_object_idref\n",
    "    \"\"\"\n",
    "    if querying==True:\n",
    "        print('Querying life_td for h_link...')\n",
    "        h_link=query(service,adql_query2)\n",
    "        hf.save([cat],['h_link'],location='data/')\n",
    "    else:\n",
    "        print('Loading h_link...')\n",
    "        [h_link]=hf.load(['best_h_link'],location='data/')\n",
    "    #remove those where parent_main_id in h_link as child_main_id\n",
    "    higher_order_multiples=np.in1d(multiples['parent_main_id'],\\\n",
    "            h_link['child_main_id'])\n",
    "    # all without higher order multiples\n",
    "    multiples=multiples[np.invert(higher_order_multiples)]\n",
    "    \n",
    "    if len(stars)>0:\n",
    "        stars=hf.object_contained(stars,\n",
    "                ap.table.vstack([singles,multiples])['main_id'],details)\n",
    "    \n",
    "    print('... where multiple parents or more than two components given.')\n",
    "    double=[]\n",
    "    grouped=multiples.group_by('main_id')\n",
    "    ind=grouped.groups.indices\n",
    "    for i in range(len(ind)-1):\n",
    "        if ind[i+1]-ind[i]!=1:\n",
    "        #print(ind[i],ind[i+1])\n",
    "            double.append(grouped['main_id'][ind[i]])\n",
    "    multiples=grouped[np.where(np.invert(np.in1d(grouped['main_id'],double)))]\n",
    "\n",
    "    if len(stars)>0:\n",
    "        stars=hf.object_contained(stars,\n",
    "                ap.table.vstack([singles,multiples])['main_id'],details)\n",
    "        \n",
    "    #critical sep:\n",
    "    print('Removing those binaries where no separation value given...')\n",
    "    multiples=multiples[np.where(multiples['sep_ang_value'].mask==False)].copy()\n",
    "    \n",
    "    if len(stars)>0:\n",
    "        stars=hf.object_contained(stars,\n",
    "                ap.table.vstack([singles,multiples])['main_id'],details)\n",
    "    \n",
    "    print('Transforming from angular separation into physical one...') \n",
    "    #transform into physical separations the remaining ones\n",
    "\n",
    "    multiples['sep_phys_value']=multiples['sep_ang_value']\n",
    "    multiples['sep_phys_value'].unit=ap.units.AU\n",
    "    for i in range(len(multiples)):\n",
    "        multiples['sep_phys_value'][i]=np.round(\n",
    "                multiples['sep_ang_value'][i]*multiples['dist_st_value'][i],1)\n",
    "    \n",
    "    \n",
    "    print('Keeping only binaries where both components fulfill requirements.') \n",
    "    # meaning having the parameters we need for critical sep \n",
    "    # computation (main sequence & sep given)\n",
    "\n",
    "    grouped_multiples=multiples.group_by('parent_main_id')\n",
    "    ind=grouped_multiples.groups.indices\n",
    "\n",
    "    result=grouped_multiples[:0].copy()\n",
    "\n",
    "    for i in range(len(ind)-1):\n",
    "        l=ind[i+1]-ind[i]\n",
    "        if l==2:\n",
    "            result.add_row(grouped_multiples[ind[i]])\n",
    "            result.add_row(grouped_multiples[ind[i]+1])\n",
    "    \n",
    "    if len(stars)>0:\n",
    "        stars=hf.object_contained(stars,\n",
    "                ap.table.vstack([singles,result])['main_id'],details)\n",
    "    \n",
    "    print('Keeping only objects where <10 AU planet orbits are stable...')\n",
    "    \n",
    "    result['a_crit_s']=result['sep_phys_value']\n",
    "\n",
    "    for i in range(len(result)):\n",
    "        m_p=result['mass_st_value'][i]\n",
    "        if i % 2 == 0:\n",
    "            m_s=result['mass_st_value'][i+1]\n",
    "        else:\n",
    "            m_s=result['mass_st_value'][i-1]\n",
    "        mu=m_s/(m_p+m_s)\n",
    "        result['a_crit_s'][i]=crit_sep(0,mu,result['sep_phys_value'][i])[0]\n",
    "        #assumed circular orbit and sep_phys = a_bin\n",
    "\n",
    "    final=result[:0].copy()\n",
    "    #wait, didn't I already define this? -> was before removing some\n",
    "    ind=result.group_by('parent_main_id').groups.indices\n",
    "    a_max=10.\n",
    "    \n",
    "    for i in range(len(ind)-1):\n",
    "        if a_max < min(result['a_crit_s'][ind[i]],result['a_crit_s'][ind[i]+1]):\n",
    "            final.add_row(result[ind[i]])\n",
    "            final.add_row(result[ind[i]+1])\n",
    "    \n",
    "    if len(stars)>0:\n",
    "        stars=hf.object_contained(stars,\n",
    "                ap.table.vstack([singles,final])['main_id'],details)\n",
    "        \n",
    "    #does not look right. a_crit is 8 but stayed in sample??\n",
    "\n",
    "    #what about the inner limit of 0.5??\n",
    "    \n",
    "    StarCat4=ap.table.vstack([singles,final])\n",
    "    \n",
    "    print('Adding architecture parameter...')\n",
    "    # flag any object whose declination is contained within the region \n",
    "    # between -(23.4+45)*sin(RA) and +(23.4+45)*sin(RA) with the \n",
    "    # object's RA in degrees.\n",
    "\n",
    "    StarCat4['ecliptic_pm45deg']=ecliptic(45,StarCat4['coo_ra'],\\\n",
    "            StarCat4['coo_dec'])\n",
    "    hf.save([StarCat4],['StarCat4'],location='data/')\n",
    "    \n",
    "    if len(stars)>0:\n",
    "        print('All criteria were met by:',len(stars))\n",
    "        if details:\n",
    "            print(stars)\n",
    "    \n",
    "    return StarCat4\n",
    "    "
   ]
  }
 ],
 "metadata": {
  "kernelspec": {
   "display_name": "Python 3 (ipykernel)",
   "language": "python",
   "name": "python3"
  },
  "language_info": {
   "codemirror_mode": {
    "name": "ipython",
    "version": 3
   },
   "file_extension": ".py",
   "mimetype": "text/x-python",
   "name": "python",
   "nbconvert_exporter": "python",
   "pygments_lexer": "ipython3",
   "version": "3.10.12"
  }
 },
 "nbformat": 4,
 "nbformat_minor": 5
}
